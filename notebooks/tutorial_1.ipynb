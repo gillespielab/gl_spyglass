{
 "cells": [
  {
   "cell_type": "markdown",
   "metadata": {},
   "source": [
    "First, connect to our database by running the cell below (put your own username as the database user):"
   ]
  },
  {
   "cell_type": "code",
   "execution_count": 2,
   "metadata": {},
   "outputs": [
    {
     "name": "stderr",
     "output_type": "stream",
     "text": [
      "[2025-02-04 10:19:30,908][INFO]: Connecting anna@gl-ash.biostr.washington.edu:3306\n",
      "[2025-02-04 10:19:30,935][INFO]: Connected anna@gl-ash.biostr.washington.edu:3306\n"
     ]
    },
    {
     "data": {
      "text/plain": [
       "DataJoint connection (connected) anna@gl-ash.biostr.washington.edu:3306"
      ]
     },
     "execution_count": 2,
     "metadata": {},
     "output_type": "execute_result"
    }
   ],
   "source": [
    "import datajoint as dj\n",
    "dj.config['database.host'] = \"gl-ash.biostr.washington.edu\"\n",
    "dj.config['database.user'] = \"anna\"\n",
    "dj.config['database.port'] = 3306\n",
    "dj.conn()"
   ]
  },
  {
   "cell_type": "markdown",
   "metadata": {},
   "source": [
    "Next, import some useful spyglass packages and supress some warnings."
   ]
  },
  {
   "cell_type": "code",
   "execution_count": 3,
   "metadata": {},
   "outputs": [
    {
     "name": "stderr",
     "output_type": "stream",
     "text": [
      "[10:19:37][WARNING] Spyglass: Please update position_tools to >= 0.1.0\n"
     ]
    }
   ],
   "source": [
    "# ignore datajoint+jupyter async warnings\n",
    "import warnings\n",
    "warnings.simplefilter(\"ignore\", category=DeprecationWarning)\n",
    "warnings.simplefilter(\"ignore\", category=ResourceWarning)\n",
    "warnings.simplefilter(\"ignore\", category=UserWarning)\n",
    "\n",
    "# spyglass.common has the most frequently used tables\n",
    "import spyglass.common as sgc\n",
    "\n",
    "# spyglass.data_import has tools for inserting NWB files into the database\n",
    "import spyglass.data_import as sgi"
   ]
  },
  {
   "cell_type": "markdown",
   "metadata": {},
   "source": [
    "Information and data in our database is stored in TABLES. For instance, `sgc.LabMember` is a table containing the list of lab members. To view the contents of a table, call it with parentheses at the end. Some tables have associated [part tables](https://datajoint.com/docs/core/datajoint-python/0.14/design/tables/master-part/) that contain more data. Not every entry in a table must have an entry in the part table, but every entry in the part table MUST have an entry in the master table. The [primary key](https://datajoint.com/docs/core/datajoint-python/0.14/design/tables/primary/) for an entry in a table is the set of attributes (each table column is an attribute) that unambiguously specify a given entry. These are designated by the bold column header.  "
   ]
  },
  {
   "cell_type": "code",
   "execution_count": 10,
   "metadata": {},
   "outputs": [
    {
     "data": {
      "text/html": [
       "\n",
       "    \n",
       "    <style type=\"text/css\">\n",
       "        .Table{\n",
       "            border-collapse:collapse;\n",
       "        }\n",
       "        .Table th{\n",
       "            background: #A0A0A0; color: #ffffff; padding:4px; border:#f0e0e0 1px solid;\n",
       "            font-weight: normal; font-family: monospace; font-size: 100%;\n",
       "        }\n",
       "        .Table td{\n",
       "            padding:4px; border:#f0e0e0 1px solid; font-size:100%;\n",
       "        }\n",
       "        .Table tr:nth-child(odd){\n",
       "            background: #ffffff;\n",
       "            color: #000000;\n",
       "        }\n",
       "        .Table tr:nth-child(even){\n",
       "            background: #f3f1ff;\n",
       "            color: #000000;\n",
       "        }\n",
       "        /* Tooltip container */\n",
       "        .djtooltip {\n",
       "        }\n",
       "        /* Tooltip text */\n",
       "        .djtooltip .djtooltiptext {\n",
       "            visibility: hidden;\n",
       "            width: 120px;\n",
       "            background-color: black;\n",
       "            color: #fff;\n",
       "            text-align: center;\n",
       "            padding: 5px 0;\n",
       "            border-radius: 6px;\n",
       "            /* Position the tooltip text - see examples below! */\n",
       "            position: absolute;\n",
       "            z-index: 1;\n",
       "        }\n",
       "        #primary {\n",
       "            font-weight: bold;\n",
       "            color: black;\n",
       "        }\n",
       "        #nonprimary {\n",
       "            font-weight: normal;\n",
       "            color: white;\n",
       "        }\n",
       "\n",
       "        /* Show the tooltip text when you mouse over the tooltip container */\n",
       "        .djtooltip:hover .djtooltiptext {\n",
       "            visibility: visible;\n",
       "        }\n",
       "    </style>\n",
       "    \n",
       "    <b></b>\n",
       "        <div style=\"max-height:1000px;max-width:1500px;overflow:auto;\">\n",
       "        <table border=\"1\" class=\"Table\">\n",
       "            <thead> <tr style=\"text-align: right;\"> <th> <div class=\"djtooltip\">\n",
       "                            <p id=\"primary\">team_name</p>\n",
       "                            <span class=\"djtooltiptext\"></span>\n",
       "                        </div></th><th><div class=\"djtooltip\">\n",
       "                            <p id=\"nonprimary\">team_description</p>\n",
       "                            <span class=\"djtooltiptext\"></span>\n",
       "                        </div> </th> </tr> </thead>\n",
       "            <tbody> <tr> <td>Alex Garcia</td>\n",
       "<td></td></tr><tr><td>Anna Gillespie</td>\n",
       "<td></td></tr><tr><td>Gabby Shvartsman</td>\n",
       "<td>test</td></tr><tr><td>Ian O'Leary</td>\n",
       "<td></td></tr><tr><td>Jason Tran</td>\n",
       "<td>test</td></tr><tr><td>Josiah Quinn</td>\n",
       "<td>test</td></tr><tr><td>Molly Park</td>\n",
       "<td>test</td></tr><tr><td>My Team</td>\n",
       "<td>test</td> </tr> </tbody>\n",
       "        </table>\n",
       "        \n",
       "        <p>Total: 8</p></div>\n",
       "        "
      ],
      "text/plain": [
       "*team_name     team_descripti\n",
       "+------------+ +------------+\n",
       "Alex Garcia                  \n",
       "Anna Gillespie               \n",
       "Gabby Shvartsm test          \n",
       "Ian O'Leary                  \n",
       "Jason Tran     test          \n",
       "Josiah Quinn   test          \n",
       "Molly Park     test          \n",
       "My Team        test          \n",
       " (Total: 8)"
      ]
     },
     "execution_count": 10,
     "metadata": {},
     "output_type": "execute_result"
    }
   ],
   "source": [
    "sgc.LabTeam()"
   ]
  },
  {
   "cell_type": "markdown",
   "metadata": {},
   "source": [
    "Add yourself to our list of lab members.  Importantly, use a gmail address here. "
   ]
  },
  {
   "cell_type": "code",
   "execution_count": null,
   "metadata": {},
   "outputs": [],
   "source": [
    "sgc.LabMember.LabMemberInfo.insert(\n",
    "    [  # Full name, Google email address, DataJoint username\n",
    "        [\"Firstname Lastname\", \"example1@gmail.com\", \"example1\"]\n",
    "    ],\n",
    "    skip_duplicates=True,\n",
    ")\n",
    "sgc.LabMember.LabMemberInfo()"
   ]
  },
  {
   "cell_type": "code",
   "execution_count": 7,
   "metadata": {},
   "outputs": [
    {
     "data": {
      "text/html": [
       "\n",
       "    \n",
       "    <style type=\"text/css\">\n",
       "        .Table{\n",
       "            border-collapse:collapse;\n",
       "        }\n",
       "        .Table th{\n",
       "            background: #A0A0A0; color: #ffffff; padding:4px; border:#f0e0e0 1px solid;\n",
       "            font-weight: normal; font-family: monospace; font-size: 100%;\n",
       "        }\n",
       "        .Table td{\n",
       "            padding:4px; border:#f0e0e0 1px solid; font-size:100%;\n",
       "        }\n",
       "        .Table tr:nth-child(odd){\n",
       "            background: #ffffff;\n",
       "            color: #000000;\n",
       "        }\n",
       "        .Table tr:nth-child(even){\n",
       "            background: #f3f1ff;\n",
       "            color: #000000;\n",
       "        }\n",
       "        /* Tooltip container */\n",
       "        .djtooltip {\n",
       "        }\n",
       "        /* Tooltip text */\n",
       "        .djtooltip .djtooltiptext {\n",
       "            visibility: hidden;\n",
       "            width: 120px;\n",
       "            background-color: black;\n",
       "            color: #fff;\n",
       "            text-align: center;\n",
       "            padding: 5px 0;\n",
       "            border-radius: 6px;\n",
       "            /* Position the tooltip text - see examples below! */\n",
       "            position: absolute;\n",
       "            z-index: 1;\n",
       "        }\n",
       "        #primary {\n",
       "            font-weight: bold;\n",
       "            color: black;\n",
       "        }\n",
       "        #nonprimary {\n",
       "            font-weight: normal;\n",
       "            color: white;\n",
       "        }\n",
       "\n",
       "        /* Show the tooltip text when you mouse over the tooltip container */\n",
       "        .djtooltip:hover .djtooltiptext {\n",
       "            visibility: visible;\n",
       "        }\n",
       "    </style>\n",
       "    \n",
       "    <b>Information about lab member in the context of Frank lab network</b>\n",
       "        <div style=\"max-height:1000px;max-width:1500px;overflow:auto;\">\n",
       "        <table border=\"1\" class=\"Table\">\n",
       "            <thead> <tr style=\"text-align: right;\"> <th> <div class=\"djtooltip\">\n",
       "                            <p id=\"primary\">lab_member_name</p>\n",
       "                            <span class=\"djtooltiptext\"></span>\n",
       "                        </div></th><th><div class=\"djtooltip\">\n",
       "                            <p id=\"nonprimary\">google_user_name</p>\n",
       "                            <span class=\"djtooltiptext\">For permission to curate</span>\n",
       "                        </div></th><th><div class=\"djtooltip\">\n",
       "                            <p id=\"nonprimary\">datajoint_user_name</p>\n",
       "                            <span class=\"djtooltiptext\">For permission to delete ns</span>\n",
       "                        </div> </th> </tr> </thead>\n",
       "            <tbody> <tr> <td>Alex Garcia</td>\n",
       "<td>jesusagarcia2410@gmail.com</td>\n",
       "<td>alex</td></tr><tr><td>Anna Gillespie</td>\n",
       "<td>akgillespie8@gmail.com</td>\n",
       "<td>anna</td></tr><tr><td>Gabby Shvartsman</td>\n",
       "<td>gabbyshv@gmail.com</td>\n",
       "<td>gabby</td></tr><tr><td>Jason Tran</td>\n",
       "<td>jasontranasaur@gmail.com</td>\n",
       "<td>jason</td></tr><tr><td>Josiah Quinn</td>\n",
       "<td>josiahquinn13@gmail.com</td>\n",
       "<td>josiah</td></tr><tr><td>Molly Park</td>\n",
       "<td>mollysypark@gmail.com</td>\n",
       "<td>molly</td> </tr> </tbody>\n",
       "        </table>\n",
       "        \n",
       "        <p>Total: 6</p></div>\n",
       "        "
      ],
      "text/plain": [
       "*lab_member_na google_user_na datajoint_user\n",
       "+------------+ +------------+ +------------+\n",
       "Alex Garcia    jesusagarcia24 alex          \n",
       "Anna Gillespie akgillespie8@g anna          \n",
       "Gabby Shvartsm gabbyshv@gmail gabby         \n",
       "Jason Tran     jasontranasaur jason         \n",
       "Josiah Quinn   josiahquinn13@ josiah        \n",
       "Molly Park     mollysypark@gm molly         \n",
       " (Total: 6)"
      ]
     },
     "execution_count": 7,
     "metadata": {},
     "output_type": "execute_result"
    }
   ],
   "source": [
    "sgc.LabMember.LabMemberInfo()"
   ]
  },
  {
   "cell_type": "code",
   "execution_count": null,
   "metadata": {},
   "outputs": [],
   "source": []
  }
 ],
 "metadata": {
  "kernelspec": {
   "display_name": "anna_spyglass_env3",
   "language": "python",
   "name": "python3"
  },
  "language_info": {
   "codemirror_mode": {
    "name": "ipython",
    "version": 3
   },
   "file_extension": ".py",
   "mimetype": "text/x-python",
   "name": "python",
   "nbconvert_exporter": "python",
   "pygments_lexer": "ipython3",
   "version": "3.9.18"
  }
 },
 "nbformat": 4,
 "nbformat_minor": 2
}
