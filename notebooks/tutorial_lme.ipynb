{
 "cells": [
  {
   "cell_type": "code",
   "execution_count": 2,
   "metadata": {},
   "outputs": [],
   "source": [
    "#import researchpy as rp\n",
    "import statsmodels.api as sm\n",
    "import statsmodels.formula.api as smf\n",
    "import scipy.stats as stats\n",
    "import pandas as pd\n",
    "import seaborn as sns\n",
    "import numpy as np"
   ]
  },
  {
   "cell_type": "code",
   "execution_count": 3,
   "metadata": {
    "vscode": {
     "languageId": "ruby"
    }
   },
   "outputs": [
    {
     "data": {
      "text/html": [
       "<div>\n",
       "<style scoped>\n",
       "    .dataframe tbody tr th:only-of-type {\n",
       "        vertical-align: middle;\n",
       "    }\n",
       "\n",
       "    .dataframe tbody tr th {\n",
       "        vertical-align: top;\n",
       "    }\n",
       "\n",
       "    .dataframe thead th {\n",
       "        text-align: right;\n",
       "    }\n",
       "</style>\n",
       "<table border=\"1\" class=\"dataframe\">\n",
       "  <thead>\n",
       "    <tr style=\"text-align: right;\">\n",
       "      <th></th>\n",
       "      <th>subject_id</th>\n",
       "      <th>age_group</th>\n",
       "      <th>rates</th>\n",
       "    </tr>\n",
       "  </thead>\n",
       "  <tbody>\n",
       "    <tr>\n",
       "      <th>0</th>\n",
       "      <td>remy</td>\n",
       "      <td>old</td>\n",
       "      <td>0.646581</td>\n",
       "    </tr>\n",
       "    <tr>\n",
       "      <th>1</th>\n",
       "      <td>remy</td>\n",
       "      <td>old</td>\n",
       "      <td>1.400306</td>\n",
       "    </tr>\n",
       "    <tr>\n",
       "      <th>2</th>\n",
       "      <td>remy</td>\n",
       "      <td>old</td>\n",
       "      <td>0.667202</td>\n",
       "    </tr>\n",
       "    <tr>\n",
       "      <th>3</th>\n",
       "      <td>remy</td>\n",
       "      <td>old</td>\n",
       "      <td>0.962292</td>\n",
       "    </tr>\n",
       "    <tr>\n",
       "      <th>4</th>\n",
       "      <td>remy</td>\n",
       "      <td>old</td>\n",
       "      <td>0.868746</td>\n",
       "    </tr>\n",
       "    <tr>\n",
       "      <th>...</th>\n",
       "      <td>...</td>\n",
       "      <td>...</td>\n",
       "      <td>...</td>\n",
       "    </tr>\n",
       "    <tr>\n",
       "      <th>155</th>\n",
       "      <td>bernard</td>\n",
       "      <td>young</td>\n",
       "      <td>0.136485</td>\n",
       "    </tr>\n",
       "    <tr>\n",
       "      <th>156</th>\n",
       "      <td>bernard</td>\n",
       "      <td>young</td>\n",
       "      <td>0.677439</td>\n",
       "    </tr>\n",
       "    <tr>\n",
       "      <th>157</th>\n",
       "      <td>bernard</td>\n",
       "      <td>young</td>\n",
       "      <td>0.745804</td>\n",
       "    </tr>\n",
       "    <tr>\n",
       "      <th>158</th>\n",
       "      <td>bernard</td>\n",
       "      <td>young</td>\n",
       "      <td>0.809827</td>\n",
       "    </tr>\n",
       "    <tr>\n",
       "      <th>159</th>\n",
       "      <td>bernard</td>\n",
       "      <td>young</td>\n",
       "      <td>0.947301</td>\n",
       "    </tr>\n",
       "  </tbody>\n",
       "</table>\n",
       "<p>160 rows × 3 columns</p>\n",
       "</div>"
      ],
      "text/plain": [
       "    subject_id age_group     rates\n",
       "0         remy       old  0.646581\n",
       "1         remy       old  1.400306\n",
       "2         remy       old  0.667202\n",
       "3         remy       old  0.962292\n",
       "4         remy       old  0.868746\n",
       "..         ...       ...       ...\n",
       "155    bernard     young  0.136485\n",
       "156    bernard     young  0.677439\n",
       "157    bernard     young  0.745804\n",
       "158    bernard     young  0.809827\n",
       "159    bernard     young  0.947301\n",
       "\n",
       "[160 rows x 3 columns]"
      ]
     },
     "execution_count": 3,
     "metadata": {},
     "output_type": "execute_result"
    }
   ],
   "source": [
    "# set up some example data\n",
    "fake_data = pd.DataFrame()\n",
    "n = 40 # measurements per subject\n",
    "fake_data['subject_id'] = ['remy']*n+['gus']*n+['fievel']*n+['bernard']*n\n",
    "fake_data['age_group'] = ['old']*n*2+['young']*n*2\n",
    "fake_data['rates'] = np.random.rand(n*4) # uniform dist\n",
    "fake_data.loc[fake_data['age_group'] == 'old', 'rates'] = fake_data.loc[fake_data['age_group'] == 'old', 'rates'] +.6\n",
    "\n",
    "fake_data"
   ]
  },
  {
   "cell_type": "code",
   "execution_count": 4,
   "metadata": {
    "vscode": {
     "languageId": "ruby"
    }
   },
   "outputs": [
    {
     "data": {
      "text/plain": [
       "<seaborn.axisgrid.FacetGrid at 0x7f0f80a2ddc0>"
      ]
     },
     "execution_count": 4,
     "metadata": {},
     "output_type": "execute_result"
    },
    {
     "data": {
      "image/png": "[encoded data removed]",
      "text/plain": [
       "<Figure size 500x500 with 1 Axes>"
      ]
     },
     "metadata": {},
     "output_type": "display_data"
    }
   ],
   "source": [
    "sns.catplot(x=\"subject_id\", y=\"rates\", data=fake_data, kind = \"swarm\")"
   ]
  },
  {
   "cell_type": "code",
   "execution_count": 5,
   "metadata": {
    "vscode": {
     "languageId": "ruby"
    }
   },
   "outputs": [
    {
     "name": "stdout",
     "output_type": "stream",
     "text": [
      "            Mixed Linear Model Regression Results\n",
      "==============================================================\n",
      "Model:                MixedLM   Dependent Variable:   rates   \n",
      "No. Observations:     160       Method:               REML    \n",
      "No. Groups:           4         Scale:                0.0868  \n",
      "Min. group size:      40        Log-Likelihood:       -35.6265\n",
      "Max. group size:      40        Converged:            Yes     \n",
      "Mean group size:      40.0                                    \n",
      "--------------------------------------------------------------\n",
      "                   Coef.  Std.Err.    z    P>|z| [0.025 0.975]\n",
      "--------------------------------------------------------------\n",
      "Intercept           1.112    0.035  31.325 0.000  1.042  1.182\n",
      "age_group[T.young] -0.546    0.050 -10.881 0.000 -0.645 -0.448\n",
      "subject_id Var      0.000    0.009                            \n",
      "==============================================================\n",
      "\n"
     ]
    },
    {
     "name": "stderr",
     "output_type": "stream",
     "text": [
      "/home/gl-willow/mambaforge/envs/anna_spyglass_env3/lib/python3.9/site-packages/statsmodels/regression/mixed_linear_model.py:2238: ConvergenceWarning: The MLE may be on the boundary of the parameter space.\n",
      "  warnings.warn(msg, ConvergenceWarning)\n"
     ]
    }
   ],
   "source": [
    "#use the lme to measure the effect of age (we know it's there bc we forced it to be)\n",
    "# construct the model, with fixed effect of age and a random intercept for each subject_id\n",
    "md = smf.mixedlm(\"rates ~ age_group\", fake_data, groups=\"subject_id\")\n",
    "mdf = md.fit()\n",
    "print(mdf.summary())"
   ]
  },
  {
   "cell_type": "code",
   "execution_count": 12,
   "metadata": {
    "vscode": {
     "languageId": "ruby"
    }
   },
   "outputs": [
    {
     "data": {
      "text/plain": [
       "0.035728596478193556"
      ]
     },
     "execution_count": 12,
     "metadata": {},
     "output_type": "execute_result"
    }
   ],
   "source": [
    "#how to read these results? \n",
    "# the coef listed for the intercept (1.112) is the mean of all rates in the first group (old) and the std err is the sem of these rates (.035)\n",
    "# age group[T.young] coef tells you that the mean of the other group (young) is 0.546 lower than the mean of the main group, and the sem of this group\n",
    "# the p value listed in the age_group row is highly significant (basically 0) indicating that there is a significant effect of age \n"
   ]
  },
  {
   "cell_type": "code",
   "execution_count": null,
   "metadata": {
    "vscode": {
     "languageId": "ruby"
    }
   },
   "outputs": [],
   "source": []
  },
  {
   "cell_type": "code",
   "execution_count": 79,
   "metadata": {
    "vscode": {
     "languageId": "ruby"
    }
   },
   "outputs": [
    {
     "data": {
      "text/html": [
       "<div>\n",
       "<style scoped>\n",
       "    .dataframe tbody tr th:only-of-type {\n",
       "        vertical-align: middle;\n",
       "    }\n",
       "\n",
       "    .dataframe tbody tr th {\n",
       "        vertical-align: top;\n",
       "    }\n",
       "\n",
       "    .dataframe thead th {\n",
       "        text-align: right;\n",
       "    }\n",
       "</style>\n",
       "<table border=\"1\" class=\"dataframe\">\n",
       "  <thead>\n",
       "    <tr style=\"text-align: right;\">\n",
       "      <th></th>\n",
       "      <th>subject_id</th>\n",
       "      <th>age_group</th>\n",
       "      <th>rates</th>\n",
       "      <th>sex</th>\n",
       "      <th>timepoint</th>\n",
       "    </tr>\n",
       "  </thead>\n",
       "  <tbody>\n",
       "    <tr>\n",
       "      <th>0</th>\n",
       "      <td>remy</td>\n",
       "      <td>old</td>\n",
       "      <td>0.740398</td>\n",
       "      <td>1.0</td>\n",
       "      <td>1</td>\n",
       "    </tr>\n",
       "    <tr>\n",
       "      <th>1</th>\n",
       "      <td>remy</td>\n",
       "      <td>old</td>\n",
       "      <td>0.949399</td>\n",
       "      <td>1.0</td>\n",
       "      <td>1</td>\n",
       "    </tr>\n",
       "    <tr>\n",
       "      <th>2</th>\n",
       "      <td>remy</td>\n",
       "      <td>old</td>\n",
       "      <td>1.526969</td>\n",
       "      <td>1.0</td>\n",
       "      <td>2</td>\n",
       "    </tr>\n",
       "    <tr>\n",
       "      <th>3</th>\n",
       "      <td>remy</td>\n",
       "      <td>old</td>\n",
       "      <td>1.136347</td>\n",
       "      <td>1.0</td>\n",
       "      <td>2</td>\n",
       "    </tr>\n",
       "    <tr>\n",
       "      <th>4</th>\n",
       "      <td>remy</td>\n",
       "      <td>old</td>\n",
       "      <td>0.615661</td>\n",
       "      <td>1.0</td>\n",
       "      <td>1</td>\n",
       "    </tr>\n",
       "    <tr>\n",
       "      <th>...</th>\n",
       "      <td>...</td>\n",
       "      <td>...</td>\n",
       "      <td>...</td>\n",
       "      <td>...</td>\n",
       "      <td>...</td>\n",
       "    </tr>\n",
       "    <tr>\n",
       "      <th>155</th>\n",
       "      <td>bernard</td>\n",
       "      <td>young</td>\n",
       "      <td>0.191329</td>\n",
       "      <td>0.0</td>\n",
       "      <td>1</td>\n",
       "    </tr>\n",
       "    <tr>\n",
       "      <th>156</th>\n",
       "      <td>bernard</td>\n",
       "      <td>young</td>\n",
       "      <td>0.126495</td>\n",
       "      <td>0.0</td>\n",
       "      <td>1</td>\n",
       "    </tr>\n",
       "    <tr>\n",
       "      <th>157</th>\n",
       "      <td>bernard</td>\n",
       "      <td>young</td>\n",
       "      <td>0.515130</td>\n",
       "      <td>0.0</td>\n",
       "      <td>1</td>\n",
       "    </tr>\n",
       "    <tr>\n",
       "      <th>158</th>\n",
       "      <td>bernard</td>\n",
       "      <td>young</td>\n",
       "      <td>0.970125</td>\n",
       "      <td>0.0</td>\n",
       "      <td>2</td>\n",
       "    </tr>\n",
       "    <tr>\n",
       "      <th>159</th>\n",
       "      <td>bernard</td>\n",
       "      <td>young</td>\n",
       "      <td>0.919455</td>\n",
       "      <td>0.0</td>\n",
       "      <td>2</td>\n",
       "    </tr>\n",
       "  </tbody>\n",
       "</table>\n",
       "<p>160 rows × 5 columns</p>\n",
       "</div>"
      ],
      "text/plain": [
       "    subject_id age_group     rates  sex  timepoint\n",
       "0         remy       old  0.740398  1.0          1\n",
       "1         remy       old  0.949399  1.0          1\n",
       "2         remy       old  1.526969  1.0          2\n",
       "3         remy       old  1.136347  1.0          2\n",
       "4         remy       old  0.615661  1.0          1\n",
       "..         ...       ...       ...  ...        ...\n",
       "155    bernard     young  0.191329  0.0          1\n",
       "156    bernard     young  0.126495  0.0          1\n",
       "157    bernard     young  0.515130  0.0          1\n",
       "158    bernard     young  0.970125  0.0          2\n",
       "159    bernard     young  0.919455  0.0          2\n",
       "\n",
       "[160 rows x 5 columns]"
      ]
     },
     "execution_count": 79,
     "metadata": {},
     "output_type": "execute_result"
    }
   ],
   "source": [
    "# adding some more columns to explore different categories etc \n",
    "fake_data.loc[(fake_data['subject_id'] == 'remy')|(fake_data['subject_id'] == 'fievel'), 'sex'] = 1 \n",
    "fake_data.loc[fake_data['sex'] != 1, 'sex'] = 0\n",
    "fake_data['timepoint'] = 1 \n",
    "for subject in fake_data['subject_id'].unique():\n",
    "    subj_mean = fake_data.loc[fake_data['subject_id'] == subject, 'rates'].mean() \n",
    "    fake_data.loc[(fake_data['subject_id'] == subject) & (fake_data['rates'] > subj_mean), 'timepoint'] = 2\n",
    "\n",
    "fake_data"
   ]
  },
  {
   "cell_type": "code",
   "execution_count": 82,
   "metadata": {},
   "outputs": [
    {
     "data": {
      "text/plain": [
       "<seaborn.axisgrid.FacetGrid at 0x7f082b569940>"
      ]
     },
     "execution_count": 82,
     "metadata": {},
     "output_type": "execute_result"
    },
    {
     "data": {
      "image/png": "[encoded data removed]",
      "text/plain": [
       "<Figure size 577.986x500 with 1 Axes>"
      ]
     },
     "metadata": {},
     "output_type": "display_data"
    }
   ],
   "source": [
    "sns.catplot(x=\"subject_id\", y=\"rates\", hue=\"timepoint\", data=fake_data, kind = \"swarm\")"
   ]
  },
  {
   "cell_type": "code",
   "execution_count": null,
   "metadata": {},
   "outputs": [
    {
     "name": "stdout",
     "output_type": "stream",
     "text": [
      "            Mixed Linear Model Regression Results\n",
      "=============================================================\n",
      "Model:                MixedLM   Dependent Variable:   rates  \n",
      "No. Observations:     160       Method:               REML   \n",
      "No. Groups:           4         Scale:                0.0206 \n",
      "Min. group size:      40        Log-Likelihood:       73.8439\n",
      "Max. group size:      40        Converged:            Yes    \n",
      "Mean group size:      40.0                                   \n",
      "-------------------------------------------------------------\n",
      "                   Coef.  Std.Err.   z    P>|z| [0.025 0.975]\n",
      "-------------------------------------------------------------\n",
      "Intercept           0.250    0.053  4.758 0.000  0.147  0.353\n",
      "age_group[T.young] -0.530    0.055 -9.679 0.000 -0.637 -0.423\n",
      "timepoint           0.534    0.023 23.292 0.000  0.489  0.579\n",
      "subject_id Var      0.002    0.021                           \n",
      "=============================================================\n",
      "\n"
     ]
    },
    {
     "name": "stderr",
     "output_type": "stream",
     "text": [
      "/home/gl-willow/mambaforge/envs/anna_spyglass_env3/lib/python3.9/site-packages/statsmodels/regression/mixed_linear_model.py:2238: ConvergenceWarning: The MLE may be on the boundary of the parameter space.\n",
      "  warnings.warn(msg, ConvergenceWarning)\n"
     ]
    }
   ],
   "source": [
    "# construct our model, with fixed effect of age and a random intercept for each subject_id\n",
    "md = smf.mixedlm(\"rates ~ age_group + timepoint\", fake_data, groups=\"subject_id\")\n",
    "# here, timepoint doesn't requires a random slope because it's the same slope for all subjects and also not a continuous variable (so might as well be categorical)\n",
    "\n",
    "#md = smf.mixedlm(\"rates ~ age_group + C(sex)\", fake_data, groups=\"subject_id\")\n",
    "mdf = md.fit()\n",
    "print(mdf.summary())\n"
   ]
  },
  {
   "cell_type": "markdown",
   "metadata": {},
   "source": [
    "Suggested addition: look into testing for significance as done in Annabelle's paper (Paulson et al) : \"An F test using the KenwardRoger method to calculate the denominator degrees of freedom was performed to determine significance.\""
   ]
  },
  {
   "cell_type": "markdown",
   "metadata": {},
   "source": []
  }
 ],
 "metadata": {
  "kernelspec": {
   "display_name": "anna_spyglass_env3",
   "language": "python",
   "name": "python3"
  },
  "language_info": {
   "codemirror_mode": {
    "name": "ipython",
    "version": 3
   },
   "file_extension": ".py",
   "mimetype": "text/x-python",
   "name": "python",
   "nbconvert_exporter": "python",
   "pygments_lexer": "ipython3",
   "version": "3.9.18"
  }
 },
 "nbformat": 4,
 "nbformat_minor": 2
}
